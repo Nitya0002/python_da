{
 "cells": [
  {
   "cell_type": "markdown",
   "metadata": {},
   "source": [
    "# Student Alcohol Consumption"
   ]
  },
  {
   "cell_type": "markdown",
   "metadata": {},
   "source": [
    "### Introduction:\n",
    "\n",
    "This time you will download a dataset from the UCI.\n",
    "\n",
    "### Step 1. Import the necessary libraries"
   ]
  },
  {
   "cell_type": "code",
   "execution_count": 3,
   "metadata": {
    "collapsed": false
   },
   "outputs": [],
   "source": [
    "import pandas as pd\n",
    "import numpy as np\n",
    "import matplotlib.pyplot as plt \n",
    "import  seaborn as sns"
   ]
  },
  {
   "cell_type": "markdown",
   "metadata": {},
   "source": [
    "### Step 2. Import the dataset from this [address](https://raw.githubusercontent.com/guipsamora/pandas_exercises/master/04_Apply/Students_Alcohol_Consumption/student-mat.csv)."
   ]
  },
  {
   "cell_type": "markdown",
   "metadata": {},
   "source": [
    "### Step 3. Assign it to a variable called df."
   ]
  },
  {
   "cell_type": "code",
   "execution_count": 4,
   "metadata": {
    "collapsed": false
   },
   "outputs": [
    {
     "name": "stdout",
     "output_type": "stream",
     "text": [
      "    school sex  age address famsize Pstatus  Medu  Fedu      Mjob      Fjob  \\\n",
      "0       GP   F   18       U     GT3       A     4     4   at_home   teacher   \n",
      "1       GP   F   17       U     GT3       T     1     1   at_home     other   \n",
      "2       GP   F   15       U     LE3       T     1     1   at_home     other   \n",
      "3       GP   F   15       U     GT3       T     4     2    health  services   \n",
      "4       GP   F   16       U     GT3       T     3     3     other     other   \n",
      "..     ...  ..  ...     ...     ...     ...   ...   ...       ...       ...   \n",
      "390     MS   M   20       U     LE3       A     2     2  services  services   \n",
      "391     MS   M   17       U     LE3       T     3     1  services  services   \n",
      "392     MS   M   21       R     GT3       T     1     1     other     other   \n",
      "393     MS   M   18       R     LE3       T     3     2  services     other   \n",
      "394     MS   M   19       U     LE3       T     1     1     other   at_home   \n",
      "\n",
      "     ... famrel freetime  goout  Dalc  Walc health absences  G1  G2  G3  \n",
      "0    ...      4        3      4     1     1      3        6   5   6   6  \n",
      "1    ...      5        3      3     1     1      3        4   5   5   6  \n",
      "2    ...      4        3      2     2     3      3       10   7   8  10  \n",
      "3    ...      3        2      2     1     1      5        2  15  14  15  \n",
      "4    ...      4        3      2     1     2      5        4   6  10  10  \n",
      "..   ...    ...      ...    ...   ...   ...    ...      ...  ..  ..  ..  \n",
      "390  ...      5        5      4     4     5      4       11   9   9   9  \n",
      "391  ...      2        4      5     3     4      2        3  14  16  16  \n",
      "392  ...      5        5      3     3     3      3        3  10   8   7  \n",
      "393  ...      4        4      1     3     4      5        0  11  12  10  \n",
      "394  ...      3        2      3     3     3      5        5   8   9   9  \n",
      "\n",
      "[395 rows x 33 columns]\n"
     ]
    }
   ],
   "source": [
    "df=pd.read_csv(r\"C:\\Users\\91932\\OneDrive\\Desktop\\tut\\student\\dataset\\student-mat.csv\")\n",
    "print(df)"
   ]
  },
  {
   "cell_type": "markdown",
   "metadata": {},
   "source": [
    "### Step 4. For the purpose of this exercise slice the dataframe from 'school' until the 'guardian' column"
   ]
  },
  {
   "cell_type": "code",
   "execution_count": 5,
   "metadata": {
    "collapsed": false
   },
   "outputs": [
    {
     "name": "stdout",
     "output_type": "stream",
     "text": [
      "    school sex  age address famsize Pstatus guardian\n",
      "0       GP   F   18       U     GT3       A   mother\n",
      "1       GP   F   17       U     GT3       T   father\n",
      "2       GP   F   15       U     LE3       T   mother\n",
      "3       GP   F   15       U     GT3       T   mother\n",
      "4       GP   F   16       U     GT3       T   father\n",
      "..     ...  ..  ...     ...     ...     ...      ...\n",
      "390     MS   M   20       U     LE3       A    other\n",
      "391     MS   M   17       U     LE3       T   mother\n",
      "392     MS   M   21       R     GT3       T    other\n",
      "393     MS   M   18       R     LE3       T   mother\n",
      "394     MS   M   19       U     LE3       T   father\n",
      "\n",
      "[395 rows x 7 columns]\n"
     ]
    }
   ],
   "source": [
    "data = ['school', 'sex', 'age', 'address', 'famsize', 'Pstatus', 'guardian']\n",
    "sliced=df[data]\n",
    "print(sliced)"
   ]
  },
  {
   "cell_type": "markdown",
   "metadata": {},
   "source": [
    "### Step 5. Create a lambda function that will capitalize strings."
   ]
  },
  {
   "cell_type": "code",
   "execution_count": 6,
   "metadata": {
    "collapsed": false
   },
   "outputs": [
    {
     "name": "stdout",
     "output_type": "stream",
     "text": [
      "    school sex  age address famsize Pstatus  Medu  Fedu      Mjob      Fjob  \\\n",
      "0       Gp   F   18       U     Gt3       A     4     4   At_home   Teacher   \n",
      "1       Gp   F   17       U     Gt3       T     1     1   At_home     Other   \n",
      "2       Gp   F   15       U     Le3       T     1     1   At_home     Other   \n",
      "3       Gp   F   15       U     Gt3       T     4     2    Health  Services   \n",
      "4       Gp   F   16       U     Gt3       T     3     3     Other     Other   \n",
      "..     ...  ..  ...     ...     ...     ...   ...   ...       ...       ...   \n",
      "390     Ms   M   20       U     Le3       A     2     2  Services  Services   \n",
      "391     Ms   M   17       U     Le3       T     3     1  Services  Services   \n",
      "392     Ms   M   21       R     Gt3       T     1     1     Other     Other   \n",
      "393     Ms   M   18       R     Le3       T     3     2  Services     Other   \n",
      "394     Ms   M   19       U     Le3       T     1     1     Other   At_home   \n",
      "\n",
      "     ... famrel freetime  goout  Dalc  Walc health absences  G1  G2  G3  \n",
      "0    ...      4        3      4     1     1      3        6   5   6   6  \n",
      "1    ...      5        3      3     1     1      3        4   5   5   6  \n",
      "2    ...      4        3      2     2     3      3       10   7   8  10  \n",
      "3    ...      3        2      2     1     1      5        2  15  14  15  \n",
      "4    ...      4        3      2     1     2      5        4   6  10  10  \n",
      "..   ...    ...      ...    ...   ...   ...    ...      ...  ..  ..  ..  \n",
      "390  ...      5        5      4     4     5      4       11   9   9   9  \n",
      "391  ...      2        4      5     3     4      2        3  14  16  16  \n",
      "392  ...      5        5      3     3     3      3        3  10   8   7  \n",
      "393  ...      4        4      1     3     4      5        0  11  12  10  \n",
      "394  ...      3        2      3     3     3      5        5   8   9   9  \n",
      "\n",
      "[395 rows x 33 columns]\n"
     ]
    }
   ],
   "source": [
    "data = lambda s: s.capitalize() if isinstance(s, str) else s\n",
    "data1=df.map(data)\n",
    "print(data1)"
   ]
  },
  {
   "cell_type": "markdown",
   "metadata": {},
   "source": [
    "### Step 6. Capitalize both Mjob and Fjob"
   ]
  },
  {
   "cell_type": "code",
   "execution_count": 7,
   "metadata": {
    "collapsed": false
   },
   "outputs": [
    {
     "name": "stdout",
     "output_type": "stream",
     "text": [
      "    school sex  age address famsize Pstatus  Medu  Fedu      Mjob      Fjob  \\\n",
      "0       GP   F   18       U     GT3       A     4     4   At_home   Teacher   \n",
      "1       GP   F   17       U     GT3       T     1     1   At_home     Other   \n",
      "2       GP   F   15       U     LE3       T     1     1   At_home     Other   \n",
      "3       GP   F   15       U     GT3       T     4     2    Health  Services   \n",
      "4       GP   F   16       U     GT3       T     3     3     Other     Other   \n",
      "..     ...  ..  ...     ...     ...     ...   ...   ...       ...       ...   \n",
      "390     MS   M   20       U     LE3       A     2     2  Services  Services   \n",
      "391     MS   M   17       U     LE3       T     3     1  Services  Services   \n",
      "392     MS   M   21       R     GT3       T     1     1     Other     Other   \n",
      "393     MS   M   18       R     LE3       T     3     2  Services     Other   \n",
      "394     MS   M   19       U     LE3       T     1     1     Other   At_home   \n",
      "\n",
      "     ... famrel freetime  goout  Dalc  Walc health absences  G1  G2  G3  \n",
      "0    ...      4        3      4     1     1      3        6   5   6   6  \n",
      "1    ...      5        3      3     1     1      3        4   5   5   6  \n",
      "2    ...      4        3      2     2     3      3       10   7   8  10  \n",
      "3    ...      3        2      2     1     1      5        2  15  14  15  \n",
      "4    ...      4        3      2     1     2      5        4   6  10  10  \n",
      "..   ...    ...      ...    ...   ...   ...    ...      ...  ..  ..  ..  \n",
      "390  ...      5        5      4     4     5      4       11   9   9   9  \n",
      "391  ...      2        4      5     3     4      2        3  14  16  16  \n",
      "392  ...      5        5      3     3     3      3        3  10   8   7  \n",
      "393  ...      4        4      1     3     4      5        0  11  12  10  \n",
      "394  ...      3        2      3     3     3      5        5   8   9   9  \n",
      "\n",
      "[395 rows x 33 columns]\n"
     ]
    }
   ],
   "source": [
    "df[\"Mjob\"]=df[\"Mjob\"].apply(lambda x: x.capitalize())\n",
    "df[\"Fjob\"]=df[\"Fjob\"].apply(lambda x: x.capitalize())\n",
    "print(df)"
   ]
  },
  {
   "cell_type": "markdown",
   "metadata": {},
   "source": [
    "### Step 7. Print the last elements of the data set."
   ]
  },
  {
   "cell_type": "code",
   "execution_count": 8,
   "metadata": {
    "collapsed": false
   },
   "outputs": [
    {
     "name": "stdout",
     "output_type": "stream",
     "text": [
      "    school sex  age address famsize Pstatus  Medu  Fedu   Mjob     Fjob  ...  \\\n",
      "394     MS   M   19       U     LE3       T     1     1  Other  At_home  ...   \n",
      "\n",
      "    famrel freetime  goout  Dalc  Walc health absences G1 G2 G3  \n",
      "394      3        2      3     3     3      5        5  8  9  9  \n",
      "\n",
      "[1 rows x 33 columns]\n"
     ]
    }
   ],
   "source": [
    "print(df.iloc[-1:])"
   ]
  },
  {
   "cell_type": "markdown",
   "metadata": {},
   "source": [
    "### Step 8. Did you notice the original dataframe is still lowercase? Why is that? Fix it and capitalize Mjob and Fjob."
   ]
  },
  {
   "cell_type": "code",
   "execution_count": 9,
   "metadata": {
    "collapsed": false
   },
   "outputs": [
    {
     "name": "stdout",
     "output_type": "stream",
     "text": [
      "    School Sex  Age Address Famsize Pstatus  Medu  Fedu      Mjob      Fjob  \\\n",
      "0       GP   F   18       U     GT3       A     4     4   At_home   Teacher   \n",
      "1       GP   F   17       U     GT3       T     1     1   At_home     Other   \n",
      "2       GP   F   15       U     LE3       T     1     1   At_home     Other   \n",
      "3       GP   F   15       U     GT3       T     4     2    Health  Services   \n",
      "4       GP   F   16       U     GT3       T     3     3     Other     Other   \n",
      "..     ...  ..  ...     ...     ...     ...   ...   ...       ...       ...   \n",
      "390     MS   M   20       U     LE3       A     2     2  Services  Services   \n",
      "391     MS   M   17       U     LE3       T     3     1  Services  Services   \n",
      "392     MS   M   21       R     GT3       T     1     1     Other     Other   \n",
      "393     MS   M   18       R     LE3       T     3     2  Services     Other   \n",
      "394     MS   M   19       U     LE3       T     1     1     Other   At_home   \n",
      "\n",
      "     ... Famrel Freetime  Goout  Dalc  Walc Health Absences  G1  G2  G3  \n",
      "0    ...      4        3      4     1     1      3        6   5   6   6  \n",
      "1    ...      5        3      3     1     1      3        4   5   5   6  \n",
      "2    ...      4        3      2     2     3      3       10   7   8  10  \n",
      "3    ...      3        2      2     1     1      5        2  15  14  15  \n",
      "4    ...      4        3      2     1     2      5        4   6  10  10  \n",
      "..   ...    ...      ...    ...   ...   ...    ...      ...  ..  ..  ..  \n",
      "390  ...      5        5      4     4     5      4       11   9   9   9  \n",
      "391  ...      2        4      5     3     4      2        3  14  16  16  \n",
      "392  ...      5        5      3     3     3      3        3  10   8   7  \n",
      "393  ...      4        4      1     3     4      5        0  11  12  10  \n",
      "394  ...      3        2      3     3     3      5        5   8   9   9  \n",
      "\n",
      "[395 rows x 33 columns]\n"
     ]
    }
   ],
   "source": [
    "df[\"Mjob\"]=df[\"Mjob\"].apply(lambda x: x.capitalize())\n",
    "df[\"Fjob\"]=df[\"Fjob\"].apply(lambda x: x.capitalize())\n",
    "df.columns=map(str.capitalize,df.columns)\n",
    "print(df)"
   ]
  },
  {
   "cell_type": "markdown",
   "metadata": {},
   "source": [
    "### Step 9. Create a function called majority that returns a boolean value to a new column called legal_drinker (Consider majority as older than 17 years old)"
   ]
  },
  {
   "cell_type": "code",
   "execution_count": 13,
   "metadata": {
    "collapsed": false
   },
   "outputs": [
    {
     "name": "stdout",
     "output_type": "stream",
     "text": [
      "    School Sex  Age Address Famsize Pstatus  Medu  Fedu      Mjob      Fjob  \\\n",
      "0       GP   F   18       U     GT3       A     4     4   At_home   Teacher   \n",
      "1       GP   F   17       U     GT3       T     1     1   At_home     Other   \n",
      "2       GP   F   15       U     LE3       T     1     1   At_home     Other   \n",
      "3       GP   F   15       U     GT3       T     4     2    Health  Services   \n",
      "4       GP   F   16       U     GT3       T     3     3     Other     Other   \n",
      "..     ...  ..  ...     ...     ...     ...   ...   ...       ...       ...   \n",
      "390     MS   M   20       U     LE3       A     2     2  Services  Services   \n",
      "391     MS   M   17       U     LE3       T     3     1  Services  Services   \n",
      "392     MS   M   21       R     GT3       T     1     1     Other     Other   \n",
      "393     MS   M   18       R     LE3       T     3     2  Services     Other   \n",
      "394     MS   M   19       U     LE3       T     1     1     Other   At_home   \n",
      "\n",
      "     ... Freetime Goout  Dalc  Walc  Health Absences  G1  G2  G3 legal_drinker  \n",
      "0    ...        3     4     1     1       3        6   5   6   6          True  \n",
      "1    ...        3     3     1     1       3        4   5   5   6         False  \n",
      "2    ...        3     2     2     3       3       10   7   8  10         False  \n",
      "3    ...        2     2     1     1       5        2  15  14  15         False  \n",
      "4    ...        3     2     1     2       5        4   6  10  10         False  \n",
      "..   ...      ...   ...   ...   ...     ...      ...  ..  ..  ..           ...  \n",
      "390  ...        5     4     4     5       4       11   9   9   9          True  \n",
      "391  ...        4     5     3     4       2        3  14  16  16         False  \n",
      "392  ...        5     3     3     3       3        3  10   8   7          True  \n",
      "393  ...        4     1     3     4       5        0  11  12  10          True  \n",
      "394  ...        2     3     3     3       5        5   8   9   9          True  \n",
      "\n",
      "[395 rows x 34 columns]\n"
     ]
    }
   ],
   "source": [
    "def majority(Age):\n",
    "    return Age > 17\n",
    "df['legal_drinker'] = df['Age'].apply(majority)\n",
    "print(df)"
   ]
  },
  {
   "cell_type": "code",
   "execution_count": null,
   "metadata": {
    "collapsed": false
   },
   "outputs": [],
   "source": []
  },
  {
   "cell_type": "markdown",
   "metadata": {},
   "source": [
    "### Step 10. Multiply every number of the dataset by 10. \n",
    "##### I know this makes no sense, don't forget it is just an exercise"
   ]
  },
  {
   "cell_type": "code",
   "execution_count": 14,
   "metadata": {
    "collapsed": false
   },
   "outputs": [
    {
     "name": "stdout",
     "output_type": "stream",
     "text": [
      "                   School         Sex  Age     Address  \\\n",
      "0    GPGPGPGPGPGPGPGPGPGP  FFFFFFFFFF  180  UUUUUUUUUU   \n",
      "1    GPGPGPGPGPGPGPGPGPGP  FFFFFFFFFF  170  UUUUUUUUUU   \n",
      "2    GPGPGPGPGPGPGPGPGPGP  FFFFFFFFFF  150  UUUUUUUUUU   \n",
      "3    GPGPGPGPGPGPGPGPGPGP  FFFFFFFFFF  150  UUUUUUUUUU   \n",
      "4    GPGPGPGPGPGPGPGPGPGP  FFFFFFFFFF  160  UUUUUUUUUU   \n",
      "..                    ...         ...  ...         ...   \n",
      "390  MSMSMSMSMSMSMSMSMSMS  MMMMMMMMMM  200  UUUUUUUUUU   \n",
      "391  MSMSMSMSMSMSMSMSMSMS  MMMMMMMMMM  170  UUUUUUUUUU   \n",
      "392  MSMSMSMSMSMSMSMSMSMS  MMMMMMMMMM  210  RRRRRRRRRR   \n",
      "393  MSMSMSMSMSMSMSMSMSMS  MMMMMMMMMM  180  RRRRRRRRRR   \n",
      "394  MSMSMSMSMSMSMSMSMSMS  MMMMMMMMMM  190  UUUUUUUUUU   \n",
      "\n",
      "                            Famsize     Pstatus  Medu  Fedu  \\\n",
      "0    GT3GT3GT3GT3GT3GT3GT3GT3GT3GT3  AAAAAAAAAA    40    40   \n",
      "1    GT3GT3GT3GT3GT3GT3GT3GT3GT3GT3  TTTTTTTTTT    10    10   \n",
      "2    LE3LE3LE3LE3LE3LE3LE3LE3LE3LE3  TTTTTTTTTT    10    10   \n",
      "3    GT3GT3GT3GT3GT3GT3GT3GT3GT3GT3  TTTTTTTTTT    40    20   \n",
      "4    GT3GT3GT3GT3GT3GT3GT3GT3GT3GT3  TTTTTTTTTT    30    30   \n",
      "..                              ...         ...   ...   ...   \n",
      "390  LE3LE3LE3LE3LE3LE3LE3LE3LE3LE3  AAAAAAAAAA    20    20   \n",
      "391  LE3LE3LE3LE3LE3LE3LE3LE3LE3LE3  TTTTTTTTTT    30    10   \n",
      "392  GT3GT3GT3GT3GT3GT3GT3GT3GT3GT3  TTTTTTTTTT    10    10   \n",
      "393  LE3LE3LE3LE3LE3LE3LE3LE3LE3LE3  TTTTTTTTTT    30    20   \n",
      "394  LE3LE3LE3LE3LE3LE3LE3LE3LE3LE3  TTTTTTTTTT    10    10   \n",
      "\n",
      "                                                  Mjob  \\\n",
      "0    At_homeAt_homeAt_homeAt_homeAt_homeAt_homeAt_h...   \n",
      "1    At_homeAt_homeAt_homeAt_homeAt_homeAt_homeAt_h...   \n",
      "2    At_homeAt_homeAt_homeAt_homeAt_homeAt_homeAt_h...   \n",
      "3    HealthHealthHealthHealthHealthHealthHealthHeal...   \n",
      "4    OtherOtherOtherOtherOtherOtherOtherOtherOtherO...   \n",
      "..                                                 ...   \n",
      "390  ServicesServicesServicesServicesServicesServic...   \n",
      "391  ServicesServicesServicesServicesServicesServic...   \n",
      "392  OtherOtherOtherOtherOtherOtherOtherOtherOtherO...   \n",
      "393  ServicesServicesServicesServicesServicesServic...   \n",
      "394  OtherOtherOtherOtherOtherOtherOtherOtherOtherO...   \n",
      "\n",
      "                                                  Fjob  ... Freetime Goout  \\\n",
      "0    TeacherTeacherTeacherTeacherTeacherTeacherTeac...  ...       30    40   \n",
      "1    OtherOtherOtherOtherOtherOtherOtherOtherOtherO...  ...       30    30   \n",
      "2    OtherOtherOtherOtherOtherOtherOtherOtherOtherO...  ...       30    20   \n",
      "3    ServicesServicesServicesServicesServicesServic...  ...       20    20   \n",
      "4    OtherOtherOtherOtherOtherOtherOtherOtherOtherO...  ...       30    20   \n",
      "..                                                 ...  ...      ...   ...   \n",
      "390  ServicesServicesServicesServicesServicesServic...  ...       50    40   \n",
      "391  ServicesServicesServicesServicesServicesServic...  ...       40    50   \n",
      "392  OtherOtherOtherOtherOtherOtherOtherOtherOtherO...  ...       50    30   \n",
      "393  OtherOtherOtherOtherOtherOtherOtherOtherOtherO...  ...       40    10   \n",
      "394  At_homeAt_homeAt_homeAt_homeAt_homeAt_homeAt_h...  ...       20    30   \n",
      "\n",
      "     Dalc  Walc  Health Absences   G1   G2   G3 legal_drinker  \n",
      "0      10    10      30       60   50   60   60            10  \n",
      "1      10    10      30       40   50   50   60             0  \n",
      "2      20    30      30      100   70   80  100             0  \n",
      "3      10    10      50       20  150  140  150             0  \n",
      "4      10    20      50       40   60  100  100             0  \n",
      "..    ...   ...     ...      ...  ...  ...  ...           ...  \n",
      "390    40    50      40      110   90   90   90            10  \n",
      "391    30    40      20       30  140  160  160             0  \n",
      "392    30    30      30       30  100   80   70            10  \n",
      "393    30    40      50        0  110  120  100            10  \n",
      "394    30    30      50       50   80   90   90            10  \n",
      "\n",
      "[395 rows x 34 columns]\n"
     ]
    }
   ],
   "source": [
    "def mul(x):\n",
    "    return x*10\n",
    "\n",
    "print(df.apply(mul))"
   ]
  },
  {
   "cell_type": "code",
   "execution_count": null,
   "metadata": {
    "collapsed": false
   },
   "outputs": [],
   "source": []
  }
 ],
 "metadata": {
  "anaconda-cloud": {},
  "kernelspec": {
   "display_name": "Python 3",
   "language": "python",
   "name": "python3"
  },
  "language_info": {
   "codemirror_mode": {
    "name": "ipython",
    "version": 3
   },
   "file_extension": ".py",
   "mimetype": "text/x-python",
   "name": "python",
   "nbconvert_exporter": "python",
   "pygments_lexer": "ipython3",
   "version": "3.11.8"
  }
 },
 "nbformat": 4,
 "nbformat_minor": 0
}
